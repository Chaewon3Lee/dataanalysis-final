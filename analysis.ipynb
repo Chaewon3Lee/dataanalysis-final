{
 "cells": [
  {
   "cell_type": "code",
   "execution_count": null,
   "metadata": {},
   "outputs": [],
   "source": [
    "import matplotlib\n",
    "import pandas as pd\n",
    "import matplotlib.pyplot as plt\n",
    "from scipy.stats import pearsonr\n",
    "import matplotlib.font_manager as fm\n",
    "\n",
    "\n",
    "font_list = [font.name for font in fm.fontManager.ttflist]\n",
    "\n",
    "# 폰트 경로 설정 (본인 환경에 맞게 경로를 수정해주세요)\n",
    "matplotlib.rcParams['font.family'] = 'Hancom MalangMalang'\n",
    "\n",
    "# 데이터 파일 경로\n",
    "merged_data_path = 'C:\\\\Users\\\\user\\\\Desktop\\\\2023-1\\\\data-analysis\\\\merged_data.csv'\n",
    "\n",
    "# 데이터 로드\n",
    "merged_df = pd.read_csv(merged_data_path, encoding='utf-8-sig')\n",
    "\n",
    "# 'YEAR_MONTH'를 날짜 형식으로 변환\n",
    "merged_df['YEAR_MONTH'] = pd.to_datetime(merged_df['YEAR_MONTH'], format='%Y-%m')\n",
    "\n",
    "# 'YEAR_MONTH'를 인덱스로 설정\n",
    "merged_df.set_index('YEAR_MONTH', inplace=True)\n",
    "\n",
    "# 월별 주차장 이용률과 모기 개체 수의 평균 계산\n",
    "mean_use_cnt_ratio = merged_df['USE_CNT_RATIO'].resample('M').mean()\n",
    "mean_mosquito_value = merged_df['MOSQUITO_VALUE_PARK'].resample('M').mean()\n",
    "\n",
    "# 상관계수 계산\n",
    "correlation, p_value = pearsonr(mean_use_cnt_ratio, mean_mosquito_value)\n",
    "\n",
    "# 시계열 그래프 그리기\n",
    "plt.figure(figsize=(10, 6))\n",
    "plt.plot(mean_use_cnt_ratio.index, mean_use_cnt_ratio, label='주차장 이용률 평균')\n",
    "plt.plot(mean_mosquito_value.index, mean_mosquito_value, label='모기 개체 수 평균')\n",
    "plt.xlabel('연도-월')\n",
    "plt.ylabel('값')\n",
    "plt.title('주차장 이용률과 모기 개체 수의 변화')\n",
    "plt.show()\n",
    "\n",
    "# 상관계수 출력\n",
    "print(\"주차장 이용률 평균과 모기 개체 수 평균의 상관계수:\", correlation)\n",
    "print(\"p-value:\", p_value)\n"
   ]
  }
 ],
 "metadata": {
  "anaconda-cloud": {},
  "kernelspec": {
   "display_name": "Python 3 (ipykernel)",
   "language": "python",
   "name": "python3"
  },
  "language_info": {
   "codemirror_mode": {
    "name": "ipython",
    "version": 3
   },
   "file_extension": ".py",
   "mimetype": "text/x-python",
   "name": "python",
   "nbconvert_exporter": "python",
   "pygments_lexer": "ipython3",
   "version": "3.10.9"
  }
 },
 "nbformat": 4,
 "nbformat_minor": 4
}
