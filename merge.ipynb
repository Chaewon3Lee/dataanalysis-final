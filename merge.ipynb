{
 "cells": [
  {
   "cell_type": "code",
   "execution_count": null,
   "metadata": {},
   "outputs": [],
   "source": [
    "import pandas as pd\n",
    "\n",
    "# 주차장 데이터 파일 경로\n",
    "parking_data_path = 'C:\\\\Users\\\\user\\\\Desktop\\\\2023-1\\\\data-analysis\\\\aggregated_parking_data.csv'\n",
    "\n",
    "# 모기 데이터 파일 경로\n",
    "mosquito_data_path = 'C:\\\\Users\\\\user\\\\Desktop\\\\2023-1\\\\data-analysis\\\\mosquito_data2.csv'\n",
    "\n",
    "# 주차장 데이터 로드\n",
    "parking_df = pd.read_csv(parking_data_path)\n",
    "\n",
    "# 모기 데이터 로드\n",
    "mosquito_df = pd.read_csv(mosquito_data_path)\n",
    "\n",
    "# 주차장 데이터에서 '-DD' 제거 및 'YEAR_MONTH' 컬럼 생성\n",
    "parking_df['YEAR_MONTH'] = pd.to_datetime(parking_df['DT'], format='%Y/%m').dt.strftime('%Y-%m')\n",
    "\n",
    "\n",
    "\n",
    "\n",
    "# 필요한 컬럼 선택\n",
    "parking_df = parking_df[['YEAR_MONTH', 'USE_CNT_RATIO','USE_MIN_RATIO']]\n",
    "\n",
    "# 모기 데이터에서 \"YEAR\"와 \"MONTH\" 컬럼을 조합하여 \"YYYY-MM\" 형식으로 변환\n",
    "mosquito_df['YEAR_MONTH'] = mosquito_df['YEAR'].astype(str) + '-' + mosquito_df['MONTH'].astype(str).str.zfill(2)\n",
    "\n",
    "# 필요한 컬럼 선택\n",
    "mosquito_df = mosquito_df[['YEAR_MONTH', 'MOSQUITO_VALUE_PARK']]\n",
    "\n",
    "# 주차장 데이터와 모기 데이터 합치기\n",
    "merged_df = pd.merge(parking_df, mosquito_df, on='YEAR_MONTH', how='inner')\n",
    "\n",
    "# CSV 파일 저장\n",
    "save_path = 'C:\\\\Users\\\\user\\\\Desktop\\\\2023-1\\\\data-analysis\\\\merged_data.csv'\n",
    "merged_df.to_csv(save_path, index=False)\n",
    "\n",
    "print(\"Merged data saved.\")\n"
   ]
  }
 ],
 "metadata": {
  "anaconda-cloud": {},
  "kernelspec": {
   "display_name": "Python 3 (ipykernel)",
   "language": "python",
   "name": "python3"
  },
  "language_info": {
   "codemirror_mode": {
    "name": "ipython",
    "version": 3
   },
   "file_extension": ".py",
   "mimetype": "text/x-python",
   "name": "python",
   "nbconvert_exporter": "python",
   "pygments_lexer": "ipython3",
   "version": "3.10.9"
  }
 },
 "nbformat": 4,
 "nbformat_minor": 4
}
